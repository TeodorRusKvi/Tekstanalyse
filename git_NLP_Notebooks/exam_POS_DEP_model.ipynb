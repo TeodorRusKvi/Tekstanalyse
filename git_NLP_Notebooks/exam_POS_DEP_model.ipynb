{
 "cells": [
  {
   "cell_type": "code",
   "execution_count": null,
   "metadata": {},
   "outputs": [],
   "source": [
    "X_train_text, X_test_text, POS_train, POS_test, Dep_train, Dep_test, y_train, y_test = train_test_split(X, POS_padded, Dep_padded, y, test_size=0.7, random_state=42)\n",
    "X_train_text, X_test_text, POS_train, POS_test, Dep_train, Dep_test, y_train, y_test = train_test_split(X_test_text, POS_test, Dep_test, y_test, test_size=0.7, random_state=42)"
   ]
  }
 ],
 "metadata": {
  "language_info": {
   "name": "python"
  }
 },
 "nbformat": 4,
 "nbformat_minor": 2
}
