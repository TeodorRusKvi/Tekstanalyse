{
 "cells": [
  {
   "cell_type": "code",
   "execution_count": 85,
   "metadata": {},
   "outputs": [],
   "source": [
    "import pandas as pd\n",
    "import numpy as np\n",
    "from sklearn.model_selection import KFold\n",
    "from tensorflow.keras.callbacks import EarlyStopping\n",
    "import matplotlib.pyplot as plt\n",
    "from tensorflow.keras.preprocessing.text import Tokenizer\n",
    "import seaborn as sns"
   ]
  },
  {
   "cell_type": "code",
   "execution_count": 86,
   "metadata": {},
   "outputs": [
    {
     "name": "stdout",
     "output_type": "stream",
     "text": [
      "Found 22234 unique tokens.\n",
      "\n",
      "First 10 is listen below:\n",
      "{'<OOV>': 1, 'people': 2, 'like': 3, 'work': 4, 'right': 5, 'trump': 6, 'think': 7, 'state': 8, 'government': 9, 'party': 10}\n"
     ]
    }
   ],
   "source": [
    "df = pd.read_csv(r'C:\\Users\\bugat\\Prosjekter\\Tekstanalyse\\git_NLP\\Tekstanalyse\\git_NLP_data\\new_df.csv')\n",
    "\n",
    "df['All_text'] = df['All_text'].replace(['U.S.', 'U.S.A.'], ['US', 'USA'], regex=True)\n",
    "df['Processed'] = df['Processed'].fillna(0)\n",
    "df['Processed'] = df['Processed'].astype(str)\n",
    "df['All_text'] = df['All_text'].fillna(0)\n",
    "df['All_text'] = df['All_text'].astype(str)\n",
    "\n",
    "# df.to_csv('new_df.csv', index=False)\n",
    "\n",
    "# Making the relevant columns to lists\n",
    "all_texts = (df['All_text'].to_list())\n",
    "texts = df['Processed'].to_list()\n",
    "\n",
    "# Setting the wanted text for further modelling\n",
    "corpus = texts\n",
    "\n",
    "tokenizer = Tokenizer(oov_token='<OOV>') # Hyperparameters = num_words=vocab_size, oov_token=oov_tok\n",
    "tokenizer.fit_on_texts(corpus)\n",
    "\n",
    "sequences = tokenizer.texts_to_sequences(corpus)\n",
    "\n",
    "word_index = tokenizer.word_index\n",
    "print(f'Found {len(word_index)} unique tokens.\\n\\nFirst 10 is listen below:')\n",
    "print(dict(list(word_index.items())[0:10]))"
   ]
  },
  {
   "cell_type": "code",
   "execution_count": 4,
   "metadata": {},
   "outputs": [],
   "source": [
    "my_path = r'C:\\Users\\bugat\\Prosjekter\\Tekstanalyse\\git_NLP\\Tekstanalyse'\n",
    "log_base = my_path + '/logs/'\n",
    "model_save_dir = my_path + '/models'"
   ]
  },
  {
   "cell_type": "code",
   "execution_count": 5,
   "metadata": {},
   "outputs": [],
   "source": [
    "# Last inn 'X_train_LSTM' fra en CSV-fil\n",
    "X_train_LSTM = pd.read_csv(my_path+'/git_NLP_data/X_train.csv')\n",
    "# Konverter hele DataFrame til et NumPy array\n",
    "X_train_LSTM = X_train_LSTM.to_numpy()\n",
    "\n",
    "# Last inn 'y_train_LSTM' fra en CSV-fil\n",
    "y_train_LSTM = pd.read_csv(my_path +'/git_NLP_data/y_train.csv')\n",
    "# Konverter hele DataFrame til et NumPy array\n",
    "y_train_LSTM = y_train_LSTM.to_numpy()\n",
    "\n",
    "# Last inn 'y_train_LSTM' fra en CSV-fil\n",
    "embeddings_GloVe = pd.read_csv(my_path +'/git_NLP_data/embeddings_glove.csv')\n",
    "# Konverter hele DataFrame til et NumPy array\n",
    "embeddings_GloVe = embeddings_GloVe.to_numpy()"
   ]
  },
  {
   "cell_type": "code",
   "execution_count": 1,
   "metadata": {},
   "outputs": [
    {
     "name": "stdout",
     "output_type": "stream",
     "text": [
      "WARNING:tensorflow:From c:\\Users\\bugat\\anaconda3\\Lib\\site-packages\\keras\\src\\losses.py:2976: The name tf.losses.sparse_softmax_cross_entropy is deprecated. Please use tf.compat.v1.losses.sparse_softmax_cross_entropy instead.\n",
      "\n"
     ]
    }
   ],
   "source": [
    "from tensorflow.keras.layers import Layer\n",
    "import tensorflow as tf\n",
    "\n",
    "class BahdanauAttention(Layer):\n",
    "    def __init__(self, units):\n",
    "        super(BahdanauAttention, self).__init__()\n",
    "        self.W1 = tf.keras.layers.Dense(units)\n",
    "        self.W2 = tf.keras.layers.Dense(units)\n",
    "        self.V = tf.keras.layers.Dense(1)\n",
    "\n",
    "    def call(self, query, values):\n",
    "        # query hidden state shape == (batch_size, hidden size)\n",
    "        # query_with_time_axis shape == (batch_size, 1, hidden size)\n",
    "        # values shape == (batch_size, max_len, hidden size)\n",
    "        query_with_time_axis = tf.expand_dims(query, 1)\n",
    "        \n",
    "        # score shape == (batch_size, max_len, 1)\n",
    "        score = self.V(tf.nn.tanh(\n",
    "            self.W1(query_with_time_axis) + self.W2(values)))\n",
    "        \n",
    "        # attention_weights shape == (batch_size, max_len, 1)\n",
    "        attention_weights = tf.nn.softmax(score, axis=1)\n",
    "        \n",
    "        # context_vector shape after sum == (batch_size, hidden_size)\n",
    "        context_vector = attention_weights * values\n",
    "        context_vector = tf.reduce_sum(context_vector, axis=1)\n",
    "\n",
    "        return context_vector, attention_weights"
   ]
  },
  {
   "cell_type": "code",
   "execution_count": 121,
   "metadata": {},
   "outputs": [
    {
     "name": "stdout",
     "output_type": "stream",
     "text": [
      "402/402 [==============================] - 7s 13ms/step\n"
     ]
    }
   ],
   "source": [
    "from tensorflow.keras import Input, Model\n",
    "from tensorflow.keras.layers import Conv1D, Bidirectional, LSTM, Dense\n",
    "from tensorflow.keras.layers import GlobalMaxPooling1D, Concatenate, Dropout, Embedding\n",
    "\n",
    "def build_model(input_shape, embeddings_GloVe, num_classes, number_of_parallel_blocks):\n",
    "    sequence_input = Input(shape=input_shape, dtype='int32')\n",
    "    \n",
    "    embedded_sequences = Embedding(input_dim=embeddings_GloVe.shape[0],\n",
    "                                   output_dim=embeddings_GloVe.shape[1],\n",
    "                                   weights=[embeddings_GloVe],\n",
    "                                   trainable=False)(sequence_input)\n",
    "    \n",
    "    conv_blocks = []\n",
    "    pooled_attention_outputs = []\n",
    "    for _ in range(number_of_parallel_blocks):\n",
    "        conv = Conv1D(filters=32, kernel_size=1, activation='relu')(embedded_sequences)\n",
    "        conv = GlobalMaxPooling1D()(conv)\n",
    "        conv_blocks.append(conv)\n",
    "        \n",
    "        lstm = Bidirectional(LSTM(64, return_sequences=True))(embedded_sequences)\n",
    "        attention_layer = BahdanauAttention(20)\n",
    "        attention_output, attention_weights = attention_layer(lstm, lstm)\n",
    "        # Pool the attention output to reduce dimensionality\n",
    "        pooled_attention = GlobalMaxPooling1D()(attention_output)\n",
    "        pooled_attention_outputs.append(pooled_attention)\n",
    "    \n",
    "    # Concatenating pooled attention outputs with conv outputs\n",
    "    concatenated = Concatenate()(conv_blocks + pooled_attention_outputs)\n",
    "    concatenated = Dropout(0.2)(concatenated)\n",
    "    output = Dense(num_classes, activation='sigmoid')(concatenated)\n",
    "    \n",
    "    return Model(sequence_input, output), attention_weights\n",
    "\n",
    "# Define the number of classes, number of parallel blocks, and build the model\n",
    "num_classes = 2  # Or however many classes you are classifying between\n",
    "number_of_parallel_blocks = 2  # Define the number of parallel blocks you want\n",
    "input_length = 20\n",
    "model, attention_weights = build_model((input_length,), embeddings_GloVe, num_classes, number_of_parallel_blocks)\n",
    "model.compile(loss='binary_crossentropy', optimizer='adam', metrics=['accuracy'])\n",
    "\n",
    "\n",
    "# Using the existing layers and architecture to define a new model that also outputs attention weights\n",
    "model_with_attention = Model(inputs=model.input, \n",
    "                             outputs=[model.output, attention_weights])\n",
    "\n",
    "# Assuming `input_data` is your input prepared as per the model's expected input shape\n",
    "predictions, pooled_attention = model_with_attention.predict(X_train_LSTM)"
   ]
  },
  {
   "cell_type": "code",
   "execution_count": 32,
   "metadata": {},
   "outputs": [
    {
     "name": "stdout",
     "output_type": "stream",
     "text": [
      "Epoch 1/5\n",
      "161/161 [==============================] - 17s 107ms/step - loss: 0.4724 - accuracy: 0.7724 - val_loss: 0.4976 - val_accuracy: 0.7705\n",
      "Epoch 2/5\n",
      "161/161 [==============================] - 17s 108ms/step - loss: 0.4404 - accuracy: 0.7949 - val_loss: 0.5079 - val_accuracy: 0.7604\n",
      "Epoch 3/5\n",
      "161/161 [==============================] - 18s 110ms/step - loss: 0.4080 - accuracy: 0.8145 - val_loss: 0.5113 - val_accuracy: 0.7487\n",
      "Epoch 4/5\n",
      "161/161 [==============================] - 17s 108ms/step - loss: 0.3711 - accuracy: 0.8349 - val_loss: 0.5311 - val_accuracy: 0.7320\n",
      "Score for fold 1: loss of 0.5303124189376831; accuracy of 74.01789426803589%\n",
      "Epoch 1/5\n",
      "161/161 [==============================] - 18s 110ms/step - loss: 0.3826 - accuracy: 0.8323 - val_loss: 0.3581 - val_accuracy: 0.8495\n",
      "Epoch 2/5\n",
      "161/161 [==============================] - 18s 110ms/step - loss: 0.3394 - accuracy: 0.8566 - val_loss: 0.3750 - val_accuracy: 0.8250\n",
      "Epoch 3/5\n",
      "161/161 [==============================] - 18s 110ms/step - loss: 0.2951 - accuracy: 0.8762 - val_loss: 0.3835 - val_accuracy: 0.8312\n",
      "Epoch 4/5\n",
      "161/161 [==============================] - 18s 110ms/step - loss: 0.2447 - accuracy: 0.9013 - val_loss: 0.3985 - val_accuracy: 0.8331\n",
      "Score for fold 2: loss of 0.4153501093387604; accuracy of 82.18591809272766%\n",
      "Epoch 1/5\n",
      "161/161 [==============================] - 18s 109ms/step - loss: 0.2694 - accuracy: 0.8879 - val_loss: 0.2156 - val_accuracy: 0.9156\n",
      "Epoch 2/5\n",
      "161/161 [==============================] - 18s 111ms/step - loss: 0.2137 - accuracy: 0.9170 - val_loss: 0.2561 - val_accuracy: 0.8942\n",
      "Epoch 3/5\n",
      "161/161 [==============================] - 17s 104ms/step - loss: 0.1743 - accuracy: 0.9341 - val_loss: 0.2456 - val_accuracy: 0.9035\n",
      "Epoch 4/5\n",
      "161/161 [==============================] - 17s 103ms/step - loss: 0.1458 - accuracy: 0.9454 - val_loss: 0.2506 - val_accuracy: 0.8969\n",
      "Score for fold 3: loss of 0.2683032751083374; accuracy of 88.99260759353638%\n",
      "Epoch 1/5\n",
      "161/161 [==============================] - 17s 106ms/step - loss: 0.1708 - accuracy: 0.9329 - val_loss: 0.1435 - val_accuracy: 0.9452\n",
      "Epoch 2/5\n",
      "161/161 [==============================] - 17s 104ms/step - loss: 0.1232 - accuracy: 0.9541 - val_loss: 0.1252 - val_accuracy: 0.9545\n",
      "Epoch 3/5\n",
      "161/161 [==============================] - 17s 108ms/step - loss: 0.1073 - accuracy: 0.9606 - val_loss: 0.1862 - val_accuracy: 0.9273\n",
      "Epoch 4/5\n",
      "161/161 [==============================] - 18s 111ms/step - loss: 0.0836 - accuracy: 0.9722 - val_loss: 0.1540 - val_accuracy: 0.9362\n",
      "Epoch 5/5\n",
      "161/161 [==============================] - 17s 108ms/step - loss: 0.0767 - accuracy: 0.9726 - val_loss: 0.1714 - val_accuracy: 0.9366\n",
      "Score for fold 4: loss of 0.18894779682159424; accuracy of 92.92104244232178%\n",
      "Epoch 1/5\n",
      "161/161 [==============================] - 19s 118ms/step - loss: 0.1011 - accuracy: 0.9630 - val_loss: 0.0962 - val_accuracy: 0.9638\n",
      "Epoch 2/5\n",
      "161/161 [==============================] - 17s 107ms/step - loss: 0.0802 - accuracy: 0.9706 - val_loss: 0.0869 - val_accuracy: 0.9661\n",
      "Epoch 3/5\n",
      "161/161 [==============================] - 16s 102ms/step - loss: 0.0691 - accuracy: 0.9754 - val_loss: 0.0881 - val_accuracy: 0.9669\n",
      "Epoch 4/5\n",
      "161/161 [==============================] - 16s 102ms/step - loss: 0.0582 - accuracy: 0.9788 - val_loss: 0.1018 - val_accuracy: 0.9615\n",
      "Epoch 5/5\n",
      "161/161 [==============================] - 16s 102ms/step - loss: 0.0448 - accuracy: 0.9843 - val_loss: 0.0995 - val_accuracy: 0.9626\n",
      "Score for fold 5: loss of 0.10893040150403976; accuracy of 95.75875401496887%\n",
      "Average scores for all folds:\n",
      "> Loss: 0.30236880034208297; Accuracy: 86.77524328231812%\n"
     ]
    }
   ],
   "source": [
    "n_splits=5\n",
    "\n",
    "KF = KFold(n_splits=n_splits, shuffle=True, random_state=42) # Example: 5-fold cross-validation\n",
    "\n",
    "# Prepare arrays to store results for each fold\n",
    "fold_no = 1\n",
    "loss_per_fold = []\n",
    "acc_per_fold = []\n",
    "\n",
    "for train, test in KF.split(X_train_LSTM, y_train_LSTM):\n",
    "    # Create a fresh model for each fold\n",
    "\n",
    "    # Fit the model\n",
    "    model.fit(X_train_LSTM[train], y_train_LSTM[train],\n",
    "                        epochs=n_splits,  # Adjust based on your needs\n",
    "                        batch_size=64,\n",
    "                        callbacks=[EarlyStopping(monitor='val_loss', patience=3, min_delta=0.0001)],\n",
    "                        validation_data=(X_train_LSTM[test], y_train_LSTM[test]),\n",
    "                        verbose=1)  # You can set verbose to 0 to reduce logs\n",
    "\n",
    "    # Evaluate the model\n",
    "    scores = model.evaluate(X_train_LSTM[test], y_train_LSTM[test], verbose=0)\n",
    "    print(f'Score for fold {fold_no}: {model.metrics_names[0]} of {scores[0]}; {model.metrics_names[1]} of {scores[1]*100}%')\n",
    "    loss_per_fold.append(scores[0])\n",
    "    acc_per_fold.append(scores[1] * 100)\n",
    "    fold_no += 1\n",
    "\n",
    "# Print average scores\n",
    "print(f'Average scores for all folds:\\n> Loss: {np.mean(loss_per_fold)}; Accuracy: {np.mean(acc_per_fold)}%')"
   ]
  },
  {
   "cell_type": "code",
   "execution_count": 113,
   "metadata": {},
   "outputs": [
    {
     "name": "stdout",
     "output_type": "stream",
     "text": [
      "402/402 [==============================] - 9s 14ms/step\n"
     ]
    }
   ],
   "source": [
    "# Using the existing layers and architecture to define a new model that also outputs attention weights\n",
    "model_with_attention = Model(inputs=model.input, \n",
    "                             outputs=[model.output, attention_weights])\n",
    "\n",
    "# Assuming `input_data` is your input prepared as per the model's expected input shape\n",
    "predictions, actual_attention_weights = model_with_attention.predict(X_train_LSTM)"
   ]
  },
  {
   "cell_type": "code",
   "execution_count": 127,
   "metadata": {},
   "outputs": [],
   "source": [
    "# Assuming attention_weights is your input array\n",
    "attention_weights_np = np.array(actual_attention_weights[0], dtype=np.float32)"
   ]
  },
  {
   "cell_type": "code",
   "execution_count": 131,
   "metadata": {},
   "outputs": [
    {
     "data": {
      "image/png": "[encoded data removed]",
      "text/plain": [
       "<Figure size 640x480 with 2 Axes>"
      ]
     },
     "execution_count": 131,
     "metadata": {},
     "output_type": "execute_result"
    }
   ],
   "source": [
    "import tensorflow as tf\n",
    "import numpy as np\n",
    "import matplotlib.pyplot as plt\n",
    "\n",
    "def plot_attention_heatmap(attention_weights):\n",
    "    # Assuming attention_weights is a 2D NumPy array\n",
    "    fig, ax = plt.subplots()\n",
    "    heatmap = ax.imshow(attention_weights, cmap='viridis')\n",
    "    plt.colorbar(heatmap)\n",
    "    plt.close(fig)  # Prevents the figure from being displayed here\n",
    "    return fig\n",
    "\n",
    "# Example usage within a training loop or after predictions\n",
    "fig = plot_attention_heatmap(attention_weights_np)\n",
    "fig"
   ]
  }
 ],
 "metadata": {
  "kernelspec": {
   "display_name": "base",
   "language": "python",
   "name": "python3"
  },
  "language_info": {
   "codemirror_mode": {
    "name": "ipython",
    "version": 3
   },
   "file_extension": ".py",
   "mimetype": "text/x-python",
   "name": "python",
   "nbconvert_exporter": "python",
   "pygments_lexer": "ipython3",
   "version": "3.11.7"
  }
 },
 "nbformat": 4,
 "nbformat_minor": 2
}
