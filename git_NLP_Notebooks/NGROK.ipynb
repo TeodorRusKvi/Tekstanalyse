{
 "cells": [
  {
   "cell_type": "code",
   "execution_count": 3,
   "metadata": {},
   "outputs": [],
   "source": [
    "import threading\n",
    "from optuna_dashboard import run_server\n",
    "from pyngrok import ngrok\n",
    "from getpass import getpass"
   ]
  },
  {
   "cell_type": "code",
   "execution_count": 4,
   "metadata": {},
   "outputs": [
    {
     "name": "stdout",
     "output_type": "stream",
     "text": [
      "Optuna Dashboard UI: https://6e11-88-89-7-61.ngrok-free.app\n"
     ]
    },
    {
     "name": "stderr",
     "output_type": "stream",
     "text": [
      "Bottle v0.12.23 server starting up (using WSGIRefServer())...\n",
      "Listening on http://localhost:8080/\n",
      "Hit Ctrl-C to quit.\n",
      "\n",
      "127.0.0.1 - - [28/Apr/2024 22:38:39] \"GET / HTTP/1.1\" 302 0\n",
      "127.0.0.1 - - [28/Apr/2024 22:38:39] \"GET /dashboard HTTP/1.1\" 200 4145\n",
      "127.0.0.1 - - [28/Apr/2024 22:38:40] \"GET /static/bundle.js HTTP/1.1\" 200 2986981\n",
      "127.0.0.1 - - [28/Apr/2024 22:38:42] \"GET /api/studies HTTP/1.1\" 200 375\n",
      "127.0.0.1 - - [28/Apr/2024 22:38:42] \"GET /favicon.ico HTTP/1.1\" 200 7670\n",
      "c:\\Users\\bugat\\anaconda3\\Lib\\site-packages\\optuna_dashboard\\_importance.py:75: ExperimentalWarning: PedAnovaImportanceEvaluator is experimental (supported from v3.6.0). The interface can change in the future.\n",
      "  return get_param_importances(study, target=target, evaluator=PedAnovaImportanceEvaluator())\n",
      "c:\\Users\\bugat\\anaconda3\\Lib\\site-packages\\optuna\\importance\\_ped_anova\\evaluator.py:150: UserWarning: PedAnovaImportanceEvaluator computes the importances of params to achieve low `target` values. If this is not what you want, please modify target, e.g., by multiplying the output by -1.\n",
      "  warnings.warn(\n",
      "127.0.0.1 - - [28/Apr/2024 22:38:46] \"GET /api/studies/3/param_importances HTTP/1.1\" 200 902\n",
      "127.0.0.1 - - [28/Apr/2024 22:38:46] \"GET /api/studies/3?after=0 HTTP/1.1\" 200 61041\n",
      "127.0.0.1 - - [28/Apr/2024 22:38:46] \"GET /api/meta HTTP/1.1\" 200 63\n",
      "127.0.0.1 - - [28/Apr/2024 22:38:46] \"GET /api/studies/3/param_importances HTTP/1.1\" 200 902\n",
      "127.0.0.1 - - [28/Apr/2024 22:38:57] \"GET /api/studies/3?after=20 HTTP/1.1\" 200 7920\n",
      "127.0.0.1 - - [28/Apr/2024 22:39:07] \"GET /api/studies/3?after=20 HTTP/1.1\" 200 7920\n",
      "127.0.0.1 - - [28/Apr/2024 22:39:17] \"GET /api/studies/3?after=20 HTTP/1.1\" 200 7920\n",
      "127.0.0.1 - - [28/Apr/2024 22:39:28] \"GET /api/studies/3?after=20 HTTP/1.1\" 200 7920\n",
      "127.0.0.1 - - [28/Apr/2024 22:39:39] \"GET /api/studies/3?after=20 HTTP/1.1\" 200 7920\n",
      "127.0.0.1 - - [28/Apr/2024 22:39:50] \"GET /api/studies/3?after=20 HTTP/1.1\" 200 7920\n",
      "127.0.0.1 - - [28/Apr/2024 22:40:01] \"GET /api/studies/3?after=20 HTTP/1.1\" 200 7920\n",
      "127.0.0.1 - - [28/Apr/2024 22:40:12] \"GET /api/studies/3?after=20 HTTP/1.1\" 200 10463\n",
      "127.0.0.1 - - [28/Apr/2024 22:40:23] \"GET /api/studies/3?after=21 HTTP/1.1\" 200 7916\n",
      "127.0.0.1 - - [28/Apr/2024 22:40:33] \"GET /api/studies/3?after=21 HTTP/1.1\" 200 7916\n",
      "127.0.0.1 - - [28/Apr/2024 22:40:43] \"GET /api/studies/3?after=21 HTTP/1.1\" 200 7916\n",
      "127.0.0.1 - - [28/Apr/2024 22:40:54] \"GET /api/studies/3?after=21 HTTP/1.1\" 200 7916\n",
      "127.0.0.1 - - [28/Apr/2024 22:41:04] \"GET /api/studies/3?after=21 HTTP/1.1\" 200 7916\n",
      "127.0.0.1 - - [28/Apr/2024 22:41:15] \"GET /api/studies/3?after=21 HTTP/1.1\" 200 7916\n",
      "127.0.0.1 - - [28/Apr/2024 22:41:26] \"GET /api/studies/3?after=21 HTTP/1.1\" 200 10455\n",
      "127.0.0.1 - - [28/Apr/2024 22:41:37] \"GET /api/studies/3?after=22 HTTP/1.1\" 200 7912\n",
      "127.0.0.1 - - [28/Apr/2024 22:41:48] \"GET /api/studies/3?after=22 HTTP/1.1\" 200 7912\n",
      "127.0.0.1 - - [28/Apr/2024 22:41:59] \"GET /api/studies/3?after=22 HTTP/1.1\" 200 7912\n",
      "127.0.0.1 - - [28/Apr/2024 22:42:10] \"GET /api/studies/3?after=22 HTTP/1.1\" 200 7912\n",
      "127.0.0.1 - - [28/Apr/2024 22:42:21] \"GET /api/studies/3?after=22 HTTP/1.1\" 200 7912\n",
      "127.0.0.1 - - [28/Apr/2024 22:42:32] \"GET /api/studies/3?after=22 HTTP/1.1\" 200 7912\n",
      "127.0.0.1 - - [28/Apr/2024 22:42:43] \"GET /api/studies/3?after=22 HTTP/1.1\" 200 7912\n",
      "127.0.0.1 - - [28/Apr/2024 22:42:54] \"GET /api/studies/3?after=22 HTTP/1.1\" 200 7912\n",
      "127.0.0.1 - - [28/Apr/2024 22:43:05] \"GET /api/studies/3?after=22 HTTP/1.1\" 200 7952\n",
      "127.0.0.1 - - [28/Apr/2024 22:43:16] \"GET /api/studies/3?after=22 HTTP/1.1\" 200 7952\n",
      "127.0.0.1 - - [28/Apr/2024 22:43:27] \"GET /api/studies/3?after=22 HTTP/1.1\" 200 7952\n",
      "127.0.0.1 - - [28/Apr/2024 22:43:38] \"GET /api/studies/3?after=22 HTTP/1.1\" 200 7952\n",
      "127.0.0.1 - - [28/Apr/2024 22:43:49] \"GET /api/studies/3?after=22 HTTP/1.1\" 200 7952\n",
      "127.0.0.1 - - [28/Apr/2024 22:44:00] \"GET /api/studies/3?after=22 HTTP/1.1\" 200 7952\n",
      "127.0.0.1 - - [28/Apr/2024 22:44:11] \"GET /api/studies/3?after=22 HTTP/1.1\" 200 7952\n",
      "127.0.0.1 - - [28/Apr/2024 22:44:22] \"GET /api/studies/3?after=22 HTTP/1.1\" 200 7994\n",
      "127.0.0.1 - - [28/Apr/2024 22:44:33] \"GET /api/studies/3?after=22 HTTP/1.1\" 200 7994\n",
      "127.0.0.1 - - [28/Apr/2024 22:44:44] \"GET /api/studies/3?after=22 HTTP/1.1\" 200 7994\n",
      "127.0.0.1 - - [28/Apr/2024 22:44:55] \"GET /api/studies/3?after=22 HTTP/1.1\" 200 7994\n",
      "127.0.0.1 - - [28/Apr/2024 22:45:06] \"GET /api/studies/3?after=22 HTTP/1.1\" 200 7994\n",
      "127.0.0.1 - - [28/Apr/2024 22:45:17] \"GET /api/studies/3?after=22 HTTP/1.1\" 200 7994\n",
      "127.0.0.1 - - [28/Apr/2024 22:45:28] \"GET /api/studies/3?after=22 HTTP/1.1\" 200 8036\n",
      "127.0.0.1 - - [28/Apr/2024 22:45:39] \"GET /api/studies/3?after=22 HTTP/1.1\" 200 8036\n",
      "127.0.0.1 - - [28/Apr/2024 22:45:50] \"GET /api/studies/3?after=22 HTTP/1.1\" 200 8036\n",
      "127.0.0.1 - - [28/Apr/2024 22:46:01] \"GET /api/studies/3?after=22 HTTP/1.1\" 200 8036\n",
      "127.0.0.1 - - [28/Apr/2024 22:46:12] \"GET /api/studies/3?after=22 HTTP/1.1\" 200 8036\n",
      "127.0.0.1 - - [28/Apr/2024 22:46:23] \"GET /api/studies/3?after=22 HTTP/1.1\" 200 8036\n",
      "127.0.0.1 - - [28/Apr/2024 22:46:34] \"GET /api/studies/3?after=22 HTTP/1.1\" 200 8036\n",
      "127.0.0.1 - - [28/Apr/2024 22:46:45] \"GET /api/studies/3?after=22 HTTP/1.1\" 200 8078\n",
      "127.0.0.1 - - [28/Apr/2024 22:46:56] \"GET /api/studies/3?after=22 HTTP/1.1\" 200 8078\n",
      "127.0.0.1 - - [28/Apr/2024 22:47:07] \"GET /api/studies/3?after=22 HTTP/1.1\" 200 8078\n"
     ]
    }
   ],
   "source": [
    "storage_url = \"sqlite:///db.sqlite3\"\n",
    "# app = create_app(get_storage(storage_url))\n",
    "\n",
    "\n",
    "port = 8080\n",
    "thread = threading.Thread(target=run_server, args=(storage_url,), kwargs={\"port\": port})\n",
    "thread.start()\n",
    "\n",
    "# Terminate open tunnels if exist\n",
    "ngrok.kill()\n",
    "\n",
    "# Setting the authtoken (optional)\n",
    "# Get your authtoken from https://dashboard.ngrok.com/\n",
    "# Insert yuor token!\n",
    "NGROK_AUTH_TOKEN = '2eppqAncNH5YQquPbhcrhgsv9E5_6ymvdN2c3eiWTMVDgfyNF'\n",
    "ngrok.set_auth_token(NGROK_AUTH_TOKEN)\n",
    "\n",
    "# Open an HTTPs tunnel on port 8081 for http://localhost:8081\n",
    "ngrok_tunnel = ngrok.connect(addr=\"8080\", proto=\"http\", bind_tls=True)\n",
    "print(\"Optuna Dashboard UI:\", ngrok_tunnel.public_url)"
   ]
  }
 ],
 "metadata": {
  "kernelspec": {
   "display_name": "base",
   "language": "python",
   "name": "python3"
  },
  "language_info": {
   "codemirror_mode": {
    "name": "ipython",
    "version": 3
   },
   "file_extension": ".py",
   "mimetype": "text/x-python",
   "name": "python",
   "nbconvert_exporter": "python",
   "pygments_lexer": "ipython3",
   "version": "3.11.7"
  }
 },
 "nbformat": 4,
 "nbformat_minor": 2
}
