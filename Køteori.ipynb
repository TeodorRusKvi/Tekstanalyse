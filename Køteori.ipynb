{
 "cells": [
  {
   "cell_type": "code",
   "execution_count": 7,
   "metadata": {},
   "outputs": [
    {
     "data": {
      "text/plain": [
       "[1,\n",
       " 5.333333333333333,\n",
       " 14.222222222222221,\n",
       " 25.28395061728395,\n",
       " 33.711934156378604,\n",
       " 35.95939643347051]"
      ]
     },
     "execution_count": 7,
     "metadata": {},
     "output_type": "execute_result"
    }
   ],
   "source": [
    "from math import prod\n",
    "\n",
    "# Beregning av C_n for n fra 1 til 5\n",
    "lambdas = [16] * 5  # Lambda verdier fra 0 til 4 er alle 16\n",
    "mus = [3, 6, 9, 12, 15]  # Mu verdier fra 1 til 5\n",
    "\n",
    "# Beregning av C_n ved å bruke produkter av lambda og mu verdier\n",
    "C = [1]  # Start med C_0 = 1\n",
    "for n in range(1, 6):\n",
    "    num = prod(lambdas[:n])  # Produkt av lambdas fra 0 til n-1\n",
    "    den = prod(mus[:n])      # Produkt av mus fra 1 til n\n",
    "    C.append(num / den)\n",
    "\n",
    "C"
   ]
  },
  {
   "cell_type": "code",
   "execution_count": 13,
   "metadata": {},
   "outputs": [
    {
     "data": {
      "text/plain": [
       "0.00865719639841629"
      ]
     },
     "execution_count": 13,
     "metadata": {},
     "output_type": "execute_result"
    }
   ],
   "source": [
    "P_0 = 1/sum(C)\n",
    "P_0"
   ]
  },
  {
   "cell_type": "code",
   "execution_count": 18,
   "metadata": {},
   "outputs": [
    {
     "name": "stdout",
     "output_type": "stream",
     "text": [
      "P_O: 0.00865719639841629\n",
      "P_n: [0.00865719639841629, 0.04617171412488688, 0.12312457099969834, 0.21888812622168594, 0.29185083496224795, 0.3113075572930645]\n"
     ]
    }
   ],
   "source": [
    "# Beregner Pn for n fra 0 til 5\n",
    "P_n = [c * P_0 for c in C]\n",
    "\n",
    "print (f'P_O: {P_0}')\n",
    "print(f'P_n: {P_n}')"
   ]
  },
  {
   "cell_type": "code",
   "execution_count": 29,
   "metadata": {},
   "outputs": [
    {
     "name": "stdout",
     "output_type": "stream",
     "text": [
      "L: 3.67\n"
     ]
    }
   ],
   "source": [
    "L = sum(n * P_n[n] for n in range(len(P_n)))\n",
    "print(f'L: {L:.2f}')"
   ]
  }
 ],
 "metadata": {
  "kernelspec": {
   "display_name": "base",
   "language": "python",
   "name": "python3"
  },
  "language_info": {
   "codemirror_mode": {
    "name": "ipython",
    "version": 3
   },
   "file_extension": ".py",
   "mimetype": "text/x-python",
   "name": "python",
   "nbconvert_exporter": "python",
   "pygments_lexer": "ipython3",
   "version": "3.11.7"
  }
 },
 "nbformat": 4,
 "nbformat_minor": 2
}
